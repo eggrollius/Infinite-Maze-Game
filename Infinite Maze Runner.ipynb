{
 "cells": [
  {
   "cell_type": "markdown",
   "metadata": {},
   "source": [
    "<img src = \"https://cdn.glitch.com/27e0f91d-ab19-4bb4-9235-59a1bf3d3fb0%2Floop(1).png?v=1600996927137\"  height =\"500px\">  "
   ]
  },
  {
   "cell_type": "markdown",
   "metadata": {},
   "source": [
    "#                                                        Infinite Maze"
   ]
  },
  {
   "cell_type": "markdown",
   "metadata": {},
   "source": [
    "**By: Ethan**"
   ]
  },
  {
   "cell_type": "markdown",
   "metadata": {},
   "source": [
    "#### Description:"
   ]
  },
  {
   "cell_type": "markdown",
   "metadata": {},
   "source": [
    "In infinite maze runner only what you can see is defenitive. In this game you can roam the hallways of a maze forever, if you decide to turn around you will not recognize what you see."
   ]
  },
  {
   "cell_type": "markdown",
   "metadata": {},
   "source": [
    "\n",
    "\n",
    "\n",
    "#### Controls:"
   ]
  },
  {
   "cell_type": "markdown",
   "metadata": {},
   "source": [
    "A: Down/Left\n",
    "B: Up/Right\n",
    "\n",
    "P0: Switch Direction (North-South to East-West)"
   ]
  },
  {
   "cell_type": "markdown",
   "metadata": {},
   "source": [
    "#### Work Logs:"
   ]
  },
  {
   "cell_type": "markdown",
   "metadata": {},
   "source": [
    "###### Day 1: \n",
    "* Planned Functions\n",
    "* Planned Data Structures\n",
    "* Planned Peripherals\n",
    "* Programmed Start Up Sequence"
   ]
  },
  {
   "cell_type": "markdown",
   "metadata": {},
   "source": [
    "###### Day 2\n",
    "* Created First Data Structure and Successfully Tested It\n",
    "* Completed The Game Loop (While True:)\n",
    "* Completed one instance of the movement function"
   ]
  },
  {
   "cell_type": "markdown",
   "metadata": {},
   "source": [
    "###### Day 3\n",
    "* Discovered that the data format for displaying LED images was not an array or tuple\n",
    "* Unsuccesfully attempted to create an \"array to image\" converting algorithm\n",
    "* Decided to restructure the data format into seperate variables representing each LED"
   ]
  },
  {
   "cell_type": "markdown",
   "metadata": {},
   "source": [
    "###### Day 4\n",
    "* Switched from the Python text editor to MakeCode browser python IDE\n",
    "* Started by modeling and testing the data format first before begining any other work\n",
    "* Created and completed all game functions\n",
    "* Finished the game by establishing a game loop."
   ]
  },
  {
   "cell_type": "markdown",
   "metadata": {},
   "source": [
    "###### Day 4.5 (At Home)\n",
    " * Uploaded to Github\n",
    " * Made 2 bug fixes and tweaked the RNG parameters.\n",
    " * Assembled Work Logs and Code Notebook"
   ]
  },
  {
   "cell_type": "markdown",
   "metadata": {},
   "source": [
    "# Record of Thinking\n",
    "<p style=\"font-family:verdana; font-size:16px;\">If I was to use one phrase to describe this project I would use \"practical\" because unlike a REPL assignment which has one goal, a project has many goals. A REPL may ask you to build a single function or return one value, where is in a whole game you will build many functions whose success depends on the others. In a project you're not given a model data structure you have to create your own. When you're creating a project you're creating something that has never been created, you cannot just google it. The biggest surprise was when it worked, at that point I had  over 29 different versions of my program in my downloads folder. At that point I was expecting to see \"ERROR LINE ##\" scrolling across the screen every time, so when I actually saw the game work I was actually taken by surprise.After deciding to restart the project I consulted Sean and Luka at break for ideas on how to manipulate the newly modeled data structure. Sean had affirmed some of my previously existing ideas, and Luka was useless as usual.If I had more time for this project I would have created a more user friendly  control scheme using a four directional joy stick instead of three buttons. However the joy stick has much more incoming data to read and evalute compared to the single button.I became stuck when i discovered the Microbit display.show() function used a string instead of an array to represent the 25 leds.To fix the issue I essentially created my own display.show() function that uses my own data structure.</p>"
   ]
  },
  {
   "cell_type": "markdown",
   "metadata": {},
   "source": [
    "<a href = \"https://github.com/eggrollius/infinite-maze-game/blob/master/main.py\"><h1>The Code</h1></a>"
   ]
  },
  {
   "cell_type": "markdown",
   "metadata": {},
   "source": [
    "**This code declares all neccesarry variables**"
   ]
  },
  {
   "cell_type": "markdown",
   "metadata": {},
   "source": [
    "```python\n",
    "northSouth = 0\n",
    "eastwest = 0\n",
    "eastwest = 0\n",
    "northSouth = 1\n",
    "one = 1\n",
    "two = 1\n",
    "three = 0\n",
    "four = 1\n",
    "five = 1\n",
    "six = 1\n",
    "seven = 1\n",
    "eight = 0\n",
    "nine = 1\n",
    "ten = 1\n",
    "eleven = 0\n",
    "twelve = 0\n",
    "thirteen = 0\n",
    "fourteen = 0\n",
    "fifteen = 0\n",
    "sixteen = 1\n",
    "seventeen = 1\n",
    "eighteen = 0\n",
    "nineteen = 1\n",
    "twenty = 1\n",
    "twentyone = 1\n",
    "twenty_two = 1\n",
    "twentythree = 0\n",
    "twentyfour = 1\n",
    "twentyfive = 1\n",
    "```"
   ]
  },
  {
   "cell_type": "markdown",
   "metadata": {},
   "source": [
    "**This code waits for input from buttons and calls there respective function**\n",
    "\n",
    "**basic.forever(on_forever) calls the game loop function continously it is equivelant to a while True: in traditional python**"
   ]
  },
  {
   "cell_type": "markdown",
   "metadata": {},
   "source": [
    "```python\n",
    "input.on_pin_pressed(TouchPin.P0, on_pin_pressed_p0)\n",
    "input.on_button_pressed(Button.A, on_button_pressed_a)\n",
    "input.on_button_pressed(Button.B, on_button_pressed_b)\n",
    "basic.forever(on_forever)\n",
    "```"
   ]
  },
  {
   "cell_type": "markdown",
   "metadata": {},
   "source": [
    "**This function is called when the third peripheral button is presed**\n",
    "\n",
    "**The function switches between north-south mode and east-west mode**"
   ]
  },
  {
   "cell_type": "markdown",
   "metadata": {},
   "source": [
    "```python\n",
    "def on_pin_pressed_p0():\n",
    "    global northSouth, eastwest\n",
    "    if northSouth == 1:\n",
    "        northSouth = 0\n",
    "        eastwest = 1\n",
    "    elif eastwest == 1:\n",
    "        eastwest = 0\n",
    "        northSouth = 1\n",
    "    basic.pause(100)\n",
    "```"
   ]
  },
  {
   "cell_type": "markdown",
   "metadata": {},
   "source": [
    "**This function is called when the A button is pressed**\n",
    "\n",
    "**This function checks wether the game is in north south mode or east west mode**\n",
    "\n",
    "**If it is north south mode it moves the character down 1 unit**\n",
    "\n",
    "**If it is east west mode it moves the character 1 unit to the right**"
   ]
  },
  {
   "cell_type": "markdown",
   "metadata": {},
   "source": [
    "```python\n",
    "def on_button_pressed_a():\n",
    "    global one, two, three, four, five, six, seven, eight, nine, ten, eleven, twelve, fourteen, fifteen, sixteen, seventeen, eighteen, nineteen, twenty, twentyone, twenty_two, twentythree, twentyfour, twentyfive\n",
    "    if northSouth == 1:\n",
    "        if eighteen == 0:\n",
    "            one = six\n",
    "            two = seven\n",
    "            three = eight\n",
    "            four = nine\n",
    "            five = ten\n",
    "            six = eleven\n",
    "            seven = twelve\n",
    "            eight = 0\n",
    "            nine = fourteen\n",
    "            ten = fifteen\n",
    "            eleven = sixteen\n",
    "            twelve = seventeen\n",
    "            fourteen = nineteen\n",
    "            fifteen = twenty\n",
    "            sixteen = twentyone\n",
    "            seventeen = twenty_two\n",
    "            eighteen = twentythree\n",
    "            nineteen = twentyfour\n",
    "            twenty = twentyfive\n",
    "            if randint(0, 10) == 0:\n",
    "                twentyone = 0\n",
    "                twenty_two = 0\n",
    "                twentythree = 0\n",
    "                if randint(0, 10) == 0:\n",
    "                    twentyfour = 0\n",
    "                    twentyfive = 0\n",
    "                else:\n",
    "                    twentyfour = 1\n",
    "                    twentyfive = 1\n",
    "            else:\n",
    "                twentyone = 1\n",
    "                twenty_two = 1\n",
    "                twentythree = 0\n",
    "                if randint(0, 10) == 0:\n",
    "                    twentyfour = 0\n",
    "                    twentyfive = 0\n",
    "                else:\n",
    "                    twentyfour = 1\n",
    "                    twentyfive = 1\n",
    "    elif twelve == 0:\n",
    "        five = four\n",
    "        ten = nine\n",
    "        fifteen = fourteen\n",
    "        twenty = nineteen\n",
    "        twentyfive = twentyfour\n",
    "        four = three\n",
    "        nine = eight\n",
    "        fourteen = 0\n",
    "        nineteen = eighteen\n",
    "        twentyfour = twentythree\n",
    "        three = two\n",
    "        eight = seven\n",
    "        eighteen = seventeen\n",
    "        twentythree = twenty_two\n",
    "        two = one\n",
    "        seven = six\n",
    "        twelve = eleven\n",
    "        seventeen = sixteen\n",
    "        twenty_two = twentyone\n",
    "        if randint(0, 10) == 0:\n",
    "            one = 0\n",
    "            six = 0\n",
    "            eleven = 0\n",
    "            if randint(0, 10) == 0:\n",
    "                sixteen = 0\n",
    "                twentyone = 0\n",
    "            else:\n",
    "                sixteen = 1\n",
    "                twentyone = 1\n",
    "        else:\n",
    "            one = 1\n",
    "            six = 1\n",
    "            eleven = 0\n",
    "            if randint(0, 10) == 0:\n",
    "                sixteen = 0\n",
    "                twentyone = 0\n",
    "            else:\n",
    "                sixteen = 1\n",
    "                twentyone = 1\n",
    "```"
   ]
  },
  {
   "cell_type": "markdown",
   "metadata": {},
   "source": [
    "**This function is called when the B button is pressed**\n",
    "\n",
    "**This function checks wether the game is in north south mode or east west mode**\n",
    "\n",
    "**If it is north south mode it moves the character up 1 unit**\n",
    "\n",
    "**If it is east west mode it moves the character 1 unit to the left**"
   ]
  },
  {
   "cell_type": "markdown",
   "metadata": {},
   "source": [
    "```python\n",
    "def on_button_pressed_b():\n",
    "    global twentyfive, twentyfour, twentythree, twenty_two, twentyone, twenty, nineteen, eighteen, seventeen, sixteen, fifteen, fourteen, twelve, eleven, ten, nine, eight, seven, six, one, two, three, four, five, thirteen\n",
    "    if northSouth == 1:\n",
    "        if eight == 0:\n",
    "            twentyfive = twenty\n",
    "            twentyfour = nineteen\n",
    "            twentythree = eighteen\n",
    "            twenty_two = seventeen\n",
    "            twentyone = sixteen\n",
    "            twenty = fifteen\n",
    "            nineteen = fourteen\n",
    "            eighteen = 0\n",
    "            seventeen = twelve\n",
    "            sixteen = eleven\n",
    "            fifteen = ten\n",
    "            fourteen = nine\n",
    "            twelve = seven\n",
    "            eleven = six\n",
    "            ten = five\n",
    "            nine = four\n",
    "            eight = three\n",
    "            seven = two\n",
    "            six = one\n",
    "            if randint(0, 10) == 0:\n",
    "                one = 0\n",
    "                two = 0\n",
    "                three = 0\n",
    "                if randint(0, 10) == 0:\n",
    "                    four = 0\n",
    "                    five = 0\n",
    "                else:\n",
    "                    four = 1\n",
    "                    five = 1\n",
    "            else:\n",
    "                one = 1\n",
    "                two = 1\n",
    "                three = 0\n",
    "                if randint(0, 10) == 0:\n",
    "                    four = 0\n",
    "                    five = 0\n",
    "                else:\n",
    "                    four = 1\n",
    "                    five = 1\n",
    "    elif fourteen == 0:\n",
    "        twentyone = twenty_two\n",
    "        sixteen = seventeen\n",
    "        eleven = twelve\n",
    "        six = seven\n",
    "        one = two\n",
    "        twenty_two = twentythree\n",
    "        seventeen = eighteen\n",
    "        twelve = 0\n",
    "        seven = eight\n",
    "        two = three\n",
    "        twentythree = twentyfour\n",
    "        eighteen = nineteen\n",
    "        thirteen = fourteen\n",
    "        eight = nine\n",
    "        three = four\n",
    "        twentyfour = twentyfive\n",
    "        nineteen = twenty\n",
    "        fourteen = fifteen\n",
    "        nine = ten\n",
    "        five = six\n",
    "        if randint(0, 10) == 0:\n",
    "            one = 0\n",
    "            six = 0\n",
    "            eleven = 0\n",
    "            if randint(0, 10) == 0:\n",
    "                sixteen = 0\n",
    "                twentyone = 0\n",
    "            else:\n",
    "                sixteen = 1\n",
    "                twentyone = 1\n",
    "        else:\n",
    "            one = 1\n",
    "            six = 1\n",
    "            eleven = 0\n",
    "            if randint(0, 10) == 0:\n",
    "                sixteen = 0\n",
    "                twentyone = 0\n",
    "            else:\n",
    "                sixteen = 1\n",
    "                twentyone = 1\n",
    "```"
   ]
  },
  {
   "cell_type": "markdown",
   "metadata": {},
   "source": [
    "**This function defines the game loop which is called continously forever**"
   ]
  },
  {
   "cell_type": "markdown",
   "metadata": {},
   "source": [
    "```python\n",
    "def on_forever():\n",
    "    led.unplot(0, 0)\n",
    "    led.unplot(1, 0)\n",
    "    led.unplot(2, 0)\n",
    "    led.unplot(3, 0)\n",
    "    led.unplot(4, 0)\n",
    "    led.unplot(0, 1)\n",
    "    led.unplot(1, 1)\n",
    "    led.unplot(2, 1)\n",
    "    led.unplot(3, 1)\n",
    "    led.unplot(4, 1)\n",
    "    led.unplot(0, 2)\n",
    "    led.unplot(1, 2)\n",
    "    led.unplot(2, 2)\n",
    "    led.unplot(3, 2)\n",
    "    led.unplot(4, 2)\n",
    "    led.unplot(0, 3)\n",
    "    led.unplot(1, 3)\n",
    "    led.unplot(2, 3)\n",
    "    led.unplot(3, 3)\n",
    "    led.unplot(4, 3)\n",
    "    led.unplot(0, 4)\n",
    "    led.unplot(1, 4)\n",
    "    led.unplot(2, 4)\n",
    "    led.unplot(3, 4)\n",
    "    led.unplot(4, 4)\n",
    "    if one == 1:\n",
    "        led.plot(0, 0)\n",
    "    if two == 1:\n",
    "        led.plot(1, 0)\n",
    "    if three == 1:\n",
    "        led.plot(2, 0)\n",
    "    if four == 1:\n",
    "        led.plot(3, 0)\n",
    "    if five == 1:\n",
    "        led.plot(4, 0)\n",
    "    if six == 1:\n",
    "        led.plot(0, 1)\n",
    "    if seven == 1:\n",
    "        led.plot(1, 1)\n",
    "    if eight == 1:\n",
    "        led.plot(2, 1)\n",
    "    if nine == 1:\n",
    "        led.plot(3, 1)\n",
    "    if ten == 1:\n",
    "        led.plot(4, 1)\n",
    "    if eleven == 1:\n",
    "        led.plot(0, 2)\n",
    "    if twelve == 1:\n",
    "        led.plot(1, 2)\n",
    "    led.plot_brightness(2, 2, 1)\n",
    "    if fourteen == 1:\n",
    "        led.plot(3, 2)\n",
    "    if fifteen == 1:\n",
    "        led.plot(4, 2)\n",
    "    if sixteen == 1:\n",
    "        led.plot(0, 3)\n",
    "    if seventeen == 1:\n",
    "        led.plot(1, 3)\n",
    "    if eighteen == 1:\n",
    "        led.plot(2, 3)\n",
    "    if nineteen == 1:\n",
    "        led.plot(3, 3)\n",
    "    if twenty == 1:\n",
    "        led.plot(4, 3)\n",
    "    if twentyone == 1:\n",
    "        led.plot(0, 4)\n",
    "    if twenty_two == 1:\n",
    "        led.plot(1, 4)\n",
    "    if twentythree == 1:\n",
    "        led.plot(2, 4)\n",
    "    if twentyfour == 1:\n",
    "        led.plot(3, 4)\n",
    "    if twentyfive == 1:\n",
    "        led.plot(4, 4)\n",
    "```"
   ]
  },
  {
   "cell_type": "code",
   "execution_count": null,
   "metadata": {},
   "outputs": [],
   "source": []
  }
 ],
 "metadata": {
  "kernelspec": {
   "display_name": "Python 3",
   "language": "python",
   "name": "python3"
  },
  "language_info": {
   "codemirror_mode": {
    "name": "ipython",
    "version": 3
   },
   "file_extension": ".py",
   "mimetype": "text/x-python",
   "name": "python",
   "nbconvert_exporter": "python",
   "pygments_lexer": "ipython3",
   "version": "3.8.3"
  }
 },
 "nbformat": 4,
 "nbformat_minor": 4
}
